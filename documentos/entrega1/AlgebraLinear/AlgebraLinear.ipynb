{
 "cells": [
  {
   "cell_type": "markdown",
   "id": "fea5443d",
   "metadata": {},
   "source": [
    "# Representação e Manipulação de Dados com Vetores e Matrizes\n",
    "## Aplicação: Desempenho de Estudantes em um Curso de Programação\n",
    "\n",
    "Neste trabalho, vamos estruturar um conjunto de dados fictício sobre o desempenho\n",
    "de estudantes em diferentes áreas de um curso de programação, representando-os\n",
    "na forma de vetores e matrizes com auxílio das bibliotecas **NumPy** e **Pandas**.\n",
    "Também realizaremos operações matemáticas sobre essas matrizes.\n"
   ]
  },
  {
   "cell_type": "markdown",
   "id": "2f3714bf",
   "metadata": {},
   "source": [
    "## 1 - Importação de Bibliotecas"
   ]
  },
  {
   "cell_type": "code",
   "execution_count": 8,
   "id": "ffa8a887",
   "metadata": {},
   "outputs": [],
   "source": [
    "import numpy as np\n",
    "import pandas as pd\n",
    "import matplotlib.pyplot as plt\n"
   ]
  },
  {
   "cell_type": "markdown",
   "id": "9538edf2",
   "metadata": {},
   "source": [
    "## 2 - Definição dos Dados"
   ]
  },
  {
   "cell_type": "code",
   "execution_count": 10,
   "id": "5aa60e0e",
   "metadata": {},
   "outputs": [
    {
     "name": "stdout",
     "output_type": "stream",
     "text": [
      "Total de Estudantes por Grupo:\n",
      "Frontend           210\n",
      "Backend            180\n",
      "Data Science       160\n",
      "Não Selecionado     50\n",
      "dtype: int64\n",
      "\n",
      "Aprovados por Grupo:\n",
      "Frontend           150\n",
      "Backend            120\n",
      "Data Science       100\n",
      "Não Selecionado     20\n",
      "dtype: int64\n",
      "\n",
      "Reprovados por Grupo:\n",
      "Frontend           60\n",
      "Backend            60\n",
      "Data Science       60\n",
      "Não Selecionado    30\n",
      "dtype: int64\n"
     ]
    }
   ],
   "source": [
    "# Definindo os grupos de estudo e suas quantidades\n",
    "grupos = pd.Series([210, 180, 160, 50], index=[\"Frontend\", \"Backend\", \"Data Science\", \"Não Selecionado\"])\n",
    "\n",
    "# Quantidade de aprovados e reprovados\n",
    "aprovados = pd.Series([150, 120, 100, 20], index=grupos.index)\n",
    "reprovados = grupos - aprovados\n",
    "\n",
    "# Exibindo os vetores\n",
    "print(\"Total de Estudantes por Grupo:\")\n",
    "print(grupos)\n",
    "\n",
    "print(\"\\nAprovados por Grupo:\")\n",
    "print(aprovados)\n",
    "\n",
    "print(\"\\nReprovados por Grupo:\")\n",
    "print(reprovados)"
   ]
  },
  {
   "cell_type": "markdown",
   "id": "28177e94",
   "metadata": {},
   "source": [
    "## 3 - Construção da Matriz"
   ]
  },
  {
   "cell_type": "code",
   "execution_count": 9,
   "id": "846bb3a2",
   "metadata": {},
   "outputs": [
    {
     "name": "stdout",
     "output_type": "stream",
     "text": [
      "Matriz:\n",
      " [[210 180 160  50]\n",
      " [150 120 100  20]\n",
      " [ 60  60  60  30]]\n"
     ]
    },
    {
     "data": {
      "text/html": [
       "<div>\n",
       "<style scoped>\n",
       "    .dataframe tbody tr th:only-of-type {\n",
       "        vertical-align: middle;\n",
       "    }\n",
       "\n",
       "    .dataframe tbody tr th {\n",
       "        vertical-align: top;\n",
       "    }\n",
       "\n",
       "    .dataframe thead th {\n",
       "        text-align: right;\n",
       "    }\n",
       "</style>\n",
       "<table border=\"1\" class=\"dataframe\">\n",
       "  <thead>\n",
       "    <tr style=\"text-align: right;\">\n",
       "      <th></th>\n",
       "      <th>Frontend</th>\n",
       "      <th>Backend</th>\n",
       "      <th>Data Science</th>\n",
       "      <th>Não Selecionado</th>\n",
       "    </tr>\n",
       "  </thead>\n",
       "  <tbody>\n",
       "    <tr>\n",
       "      <th>Total</th>\n",
       "      <td>210</td>\n",
       "      <td>180</td>\n",
       "      <td>160</td>\n",
       "      <td>50</td>\n",
       "    </tr>\n",
       "    <tr>\n",
       "      <th>Aprovados</th>\n",
       "      <td>150</td>\n",
       "      <td>120</td>\n",
       "      <td>100</td>\n",
       "      <td>20</td>\n",
       "    </tr>\n",
       "    <tr>\n",
       "      <th>Reprovados</th>\n",
       "      <td>60</td>\n",
       "      <td>60</td>\n",
       "      <td>60</td>\n",
       "      <td>30</td>\n",
       "    </tr>\n",
       "  </tbody>\n",
       "</table>\n",
       "</div>"
      ],
      "text/plain": [
       "            Frontend  Backend  Data Science  Não Selecionado\n",
       "Total            210      180           160               50\n",
       "Aprovados        150      120           100               20\n",
       "Reprovados        60       60            60               30"
      ]
     },
     "execution_count": 9,
     "metadata": {},
     "output_type": "execute_result"
    }
   ],
   "source": [
    "# Construção da matriz\n",
    "matriz = np.vstack([grupos.values, aprovados.values, reprovados.values])\n",
    "print(\"Matriz:\\n\", matriz)\n",
    "\n",
    "# DataFrame para visualização organizada\n",
    "df_matriz = pd.DataFrame(\n",
    "    matriz,\n",
    "    index=[\"Total\", \"Aprovados\", \"Reprovados\"],\n",
    "    columns=grupos.index\n",
    ")\n",
    "\n",
    "df_matriz"
   ]
  },
  {
   "cell_type": "markdown",
   "id": "37bcd05b",
   "metadata": {},
   "source": [
    "## 4 - Operações Matemáticas"
   ]
  },
  {
   "cell_type": "code",
   "execution_count": 11,
   "id": "9e88398a",
   "metadata": {},
   "outputs": [
    {
     "name": "stdout",
     "output_type": "stream",
     "text": [
      "Matriz Transposta:\n",
      "                  Total  Aprovados  Reprovados\n",
      "Frontend           210        150          60\n",
      "Backend            180        120          60\n",
      "Data Science       160        100          60\n",
      "Não Selecionado     50         20          30 \n",
      "\n",
      "Soma por linha:\n",
      " Total         600\n",
      "Aprovados     390\n",
      "Reprovados    210\n",
      "dtype: int64 \n",
      "\n",
      "Soma por coluna:\n",
      " Frontend           420\n",
      "Backend            360\n",
      "Data Science       320\n",
      "Não Selecionado    100\n",
      "dtype: int64 \n",
      "\n",
      "Aprovados x2:\n",
      " Frontend           300\n",
      "Backend            240\n",
      "Data Science       200\n",
      "Não Selecionado     40\n",
      "Name: Aprovados, dtype: int64 \n",
      "\n",
      "Produto Escalar (Aprovados · Reprovados): 22800\n"
     ]
    }
   ],
   "source": [
    "# Transposta\n",
    "print(\"Matriz Transposta:\\n\", df_matriz.T, \"\\n\")\n",
    "\n",
    "# Soma total de cada linha\n",
    "print(\"Soma por linha:\\n\", df_matriz.sum(axis=1), \"\\n\")\n",
    "\n",
    "# Soma total de cada coluna\n",
    "print(\"Soma por coluna:\\n\", df_matriz.sum(axis=0), \"\\n\")\n",
    "\n",
    "# Multiplicação escalar\n",
    "print(\"Aprovados x2:\\n\", df_matriz.loc[\"Aprovados\"] * 2, \"\\n\")\n",
    "\n",
    "# Produto matricial (Aprovados x Reprovados -> exemplo)\n",
    "produto = np.dot(df_matriz.loc[\"Aprovados\"], df_matriz.loc[\"Reprovados\"])\n",
    "print(\"Produto Escalar (Aprovados · Reprovados):\", produto)\n"
   ]
  },
  {
   "cell_type": "markdown",
   "id": "375522ef",
   "metadata": {},
   "source": [
    "## 5 - Visualização Gráfica"
   ]
  },
  {
   "cell_type": "code",
   "execution_count": 12,
   "id": "e11e8133",
   "metadata": {},
   "outputs": [
    {
     "data": {
      "image/png": "[encoded data removed]",
      "text/plain": [
       "<Figure size 800x500 with 1 Axes>"
      ]
     },
     "metadata": {},
     "output_type": "display_data"
    }
   ],
   "source": [
    "df_matriz.loc[[\"Aprovados\", \"Reprovados\"]].T.plot(kind=\"bar\", figsize=(8,5))\n",
    "plt.title(\"Aprovados vs Reprovados por Grupo\")\n",
    "plt.xlabel(\"Grupo\")\n",
    "plt.ylabel(\"Número de Estudantes\")\n",
    "plt.xticks(rotation=0)\n",
    "plt.legend()\n",
    "plt.show()"
   ]
  },
  {
   "cell_type": "markdown",
   "id": "39ef7056",
   "metadata": {},
   "source": [
    "## 6 - Estrutura Matemática\n",
    "\n",
    "A matriz de dados é:\n",
    "\n",
    "\\[\n",
    "M =\n",
    "\\begin{bmatrix}\n",
    "210 & 180 & 160 & 50 \\\\\n",
    "150 & 120 & 100 & 20 \\\\\n",
    "60  & 60  & 60  & 30\n",
    "\\end{bmatrix}\n",
    "\\]\n",
    "\n",
    "- Primeira linha: total de estudantes.  \n",
    "- Segunda linha: aprovados.  \n",
    "- Terceira linha: reprovados.  \n",
    "\n",
    "#### Operações realizadas:\n",
    "1. **Transposição**: troca linhas por colunas.  \n",
    "2. **Soma por linha**: total de estudantes, aprovados e reprovados.  \n",
    "3. **Soma por coluna**: total de cada grupo.  \n",
    "4. **Multiplicação escalar**: duplicação do número de aprovados.  \n",
    "5. **Produto escalar**: relação entre aprovados e reprovados.  \n"
   ]
  },
  {
   "cell_type": "markdown",
   "id": "15d60f9f",
   "metadata": {},
   "source": [
    "## Conclusão\n",
    "\n",
    "- Foi possível representar os dados em **vetores e matrizes** com NumPy.  \n",
    "- O uso do **Pandas** permitiu melhor organização e manipulação.  \n",
    "- Operações matemáticas demonstraram como extrair insights dos dados.  \n",
    "- A visualização gráfica reforçou a interpretação.  \n",
    "\n",
    "Essa abordagem é essencial em **Inteligência Artificial**, onde dados em \n",
    "grande escala são manipulados de forma matricial para treinar modelos.  \n"
   ]
  }
 ],
 "metadata": {
  "kernelspec": {
   "display_name": "Python 3",
   "language": "python",
   "name": "python3"
  },
  "language_info": {
   "codemirror_mode": {
    "name": "ipython",
    "version": 3
   },
   "file_extension": ".py",
   "mimetype": "text/x-python",
   "name": "python",
   "nbconvert_exporter": "python",
   "pygments_lexer": "ipython3",
   "version": "3.13.7"
  }
 },
 "nbformat": 4,
 "nbformat_minor": 5
}
